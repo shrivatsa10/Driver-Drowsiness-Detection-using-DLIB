{
 "cells": [
  {
   "cell_type": "code",
   "execution_count": null,
   "metadata": {
    "scrolled": true
   },
   "outputs": [],
   "source": [
    "import cv2\n",
    "import dlib\n",
    "from scipy.spatial import distance as dist\n",
    "import imutils\n",
    "from imutils.video import VideoStream\n",
    "from imutils import face_utils\n",
    "from imutils.video import FPS\n",
    "from threading import Thread\n",
    "import numpy as np\n",
    "import playsound\n",
    "import time"
   ]
  },
  {
   "cell_type": "code",
   "execution_count": null,
   "metadata": {},
   "outputs": [],
   "source": [
    "def sound_alarm(path):\n",
    "    # play an alarm sound\n",
    "    playsound.playsound(path)"
   ]
  },
  {
   "cell_type": "code",
   "execution_count": null,
   "metadata": {},
   "outputs": [],
   "source": [
    "def eye_aspect_ratio(eye):\n",
    "    A = dist.euclidean(eye[1], eye[5])\n",
    "    B = dist.euclidean(eye[2], eye[4])\n",
    "    C = dist.euclidean(eye[0], eye[3])\n",
    " \n",
    "    ear = (A + B) / (2.0 * C)\n",
    "    return ear"
   ]
  },
  {
   "cell_type": "markdown",
   "metadata": {},
   "source": [
    "## Define parameters"
   ]
  },
  {
   "cell_type": "code",
   "execution_count": null,
   "metadata": {},
   "outputs": [],
   "source": [
    "EYE_AR_THRESH = 0.25\n",
    "\n",
    "EYE_AR_CONSEC_FRAMES = 35\n",
    "\n",
    "frame_width=800\n",
    "\n",
    "alarm_path= \"jarvis.wav\"\n",
    "\n",
    "COUNTER = 0\n",
    "\n",
    "ALARM_ON = False"
   ]
  },
  {
   "cell_type": "code",
   "execution_count": null,
   "metadata": {},
   "outputs": [],
   "source": [
    "face_detector = dlib.get_frontal_face_detector()\n",
    "\n",
    "face_pose_predictor = dlib.shape_predictor('shape_predictor_68_face_landmarks.dat')"
   ]
  },
  {
   "cell_type": "code",
   "execution_count": null,
   "metadata": {},
   "outputs": [],
   "source": [
    "(lStart, lEnd) = face_utils.FACIAL_LANDMARKS_IDXS[\"left_eye\"]\n",
    "(rStart, rEnd) = face_utils.FACIAL_LANDMARKS_IDXS[\"right_eye\"]"
   ]
  },
  {
   "cell_type": "code",
   "execution_count": null,
   "metadata": {},
   "outputs": [],
   "source": [
    "vs = VideoStream(src=0).start()\n",
    "time.sleep(1.0)\n",
    "\n",
    "fps = FPS().start()\n",
    "fps"
   ]
  },
  {
   "cell_type": "code",
   "execution_count": null,
   "metadata": {},
   "outputs": [],
   "source": [
    "while True:\n",
    "    \n",
    "    fps.update()\n",
    "    frame = vs.read()\n",
    "    frame = imutils.resize(frame, width=frame_width)\n",
    "    gray = cv2.cvtColor(frame, cv2.COLOR_BGR2GRAY)\n",
    "\n",
    "    detected_faces = face_detector(gray, 0)\n",
    "    \n",
    "    fps.stop()\n",
    "    \n",
    "    fpscor=(frame.shape[1]-110,20)\n",
    "    cv2.putText(frame, \"FPS: {:.2f}\".format(fps.fps()), fpscor, cv2.FONT_HERSHEY_SIMPLEX, 0.5, (200,30,20), 2)\n",
    "\n",
    "    for rect in detected_faces:\n",
    "        detected_faces = face_pose_predictor(gray, rect)\n",
    "        detected_faces = face_utils.shape_to_np(detected_faces)\n",
    "        \n",
    "        x1 = rect.left()\n",
    "        y1 = rect.top()\n",
    "        x2 = rect.right()\n",
    "        y2 = rect.bottom()\n",
    "        \n",
    "        face = frame.copy()\n",
    "        cv2.rectangle(face, (x1, y1), (x2, y2), (0, 255, 0), 2)\n",
    "        cv2.rectangle(frame, (x1, y1), (x2, y2), (0, 255, 0), 2)\n",
    "        \n",
    "        landmarks = face_pose_predictor(gray, rect)\n",
    "        landmarks = face_utils.shape_to_np(landmarks)\n",
    "\n",
    "        leftEye = detected_faces[lStart:lEnd]\n",
    "        rightEye = detected_faces[rStart:rEnd]\n",
    "        leftEAR = eye_aspect_ratio(leftEye)        \n",
    "        rightEAR = eye_aspect_ratio(rightEye)\n",
    "        ear = (leftEAR + rightEAR) / 2.0\n",
    "\n",
    "        if ear < EYE_AR_THRESH:\n",
    "            COUNTER += 1\n",
    "            if COUNTER >= EYE_AR_CONSEC_FRAMES:\n",
    "                if not ALARM_ON:\n",
    "                    ALARM_ON = True\n",
    "                    t = Thread(target=sound_alarm,args=(alarm_path,))\n",
    "                    t.deamon = True\n",
    "                    t.start()\n",
    "\n",
    "                alertcor=(int(frame.shape[1]/2-180),70)\n",
    "\n",
    "                cv2.putText(frame, \"TRIGGER DROWSINESS ALARM!\", alertcor, cv2.FONT_HERSHEY_SIMPLEX , 1, (0, 0, 255), 2)\n",
    "                \n",
    "\n",
    "        else:\n",
    "            COUNTER = 0\n",
    "            ALARM_ON = False\n",
    "       \n",
    "        EARcor=(int(frame.shape[1]/2-150),25)\n",
    "        cv2.putText(frame, \"Eye Aspect Ratio: {:.2f}\".format(ear), EARcor,cv2.FONT_HERSHEY_DUPLEX, 1, (0, 255, ), 1)\n",
    " \n",
    "    \n",
    "    for n in range(0, 68):\n",
    "        (x,y) = landmarks[n]\n",
    "        cv2.circle(face, (x, y), 1, (255, 255, 255), -1)\n",
    "                    \n",
    "    cv2.imshow(\"Detector\", frame)\n",
    "    cv2.imshow(\"Result of detector\", face)\n",
    "    key = cv2.waitKey(1) & 0xFF\n",
    "\n",
    "    if key == ord(\"q\"):\n",
    "        break\n",
    "\n",
    "cv2.destroyAllWindows()\n",
    "vs.stop()"
   ]
  },
  {
   "cell_type": "code",
   "execution_count": null,
   "metadata": {},
   "outputs": [],
   "source": []
  },
  {
   "cell_type": "code",
   "execution_count": null,
   "metadata": {},
   "outputs": [],
   "source": []
  }
 ],
 "metadata": {
  "kernelspec": {
   "display_name": "Python 3",
   "language": "python",
   "name": "python3"
  },
  "language_info": {
   "codemirror_mode": {
    "name": "ipython",
    "version": 3
   },
   "file_extension": ".py",
   "mimetype": "text/x-python",
   "name": "python",
   "nbconvert_exporter": "python",
   "pygments_lexer": "ipython3",
   "version": "3.7.10"
  }
 },
 "nbformat": 4,
 "nbformat_minor": 4
}
